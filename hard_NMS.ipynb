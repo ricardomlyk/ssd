{
 "cells": [
  {
   "cell_type": "code",
   "execution_count": 11,
   "metadata": {},
   "outputs": [],
   "source": [
    "import torch"
   ]
  },
  {
   "cell_type": "code",
   "execution_count": null,
   "metadata": {},
   "outputs": [],
   "source": [
    "def hard_nms(box_scores, iou_threshold, top_k=-1, candidate_size=200):\n",
    "    '''\n",
    "    Args:\n",
    "        box_scores:\n",
    "        iou_threshold:\n",
    "        top_k:\n",
    "        candidate_size:\n",
    "    Returns:\n",
    "        remain:\n",
    "    '''\n",
    "    \n",
    "    scores = box_scores[:, -1] #取box_scores中每行的最后一个元素\n",
    "    boxes = box_scores[:, :-1] #取box_scores中每行前4个元素\n",
    "    remain = []\n",
    "    _,indexes = scores.sort(descending=True) #对scores进行降序排序\n",
    "    indexes = indexes[:candidate_size] #只保留前candidate_size个候选框\n",
    "    \n",
    "    while len(indexes) > 0:\n",
    "        current = indexes[0]\n",
    "        remain.append(current.item())\n",
    "        if 0 < top_k == len(len(remain)) or len(indexes) == 1:\n",
    "            break\n",
    "        current_box = boxes[current, :]\n",
    "        indexes = indexes[1:]\n",
    "        rest_boxes = boxes[indexes, :]\n",
    "        iou = iou_of(rest_boxes, current_box.unsqueeze(0))\n",
    "        indexes = indexes[iou <= iou_threshold]\n",
    "        \n",
    "    return box_scores[remain, :]\n",
    "        \n",
    "\n",
    "def area_of(left_top, right_bottle) -> torch.Tensor:\n",
    "    '''\n",
    "    Args:\n",
    "        left_top:\n",
    "        right_bottle:\n",
    "    Returns:\n",
    "        area:\n",
    "    '''\n",
    "    \n",
    "    hw = torch.clamp(right_bottle - left_top, min=0.0)\n",
    "    \n",
    "    return hw[:,0] * hw[:,1]\n",
    "\n",
    "\n",
    "def iou_of(boxes_1, boxes_2, eps=1e-5):\n",
    "    '''\n",
    "    Args:\n",
    "        boxes_1:\n",
    "        boxes_2:\n",
    "        eps:\n",
    "    Returns:\n",
    "        iou:\n",
    "    '''\n",
    "    \n",
    "    overlap_left_top = torch.max(boxes_1[:, :2], boxes_2[:, :2])\n",
    "    overlap_rigth_bottle = torch.min(boxes_1[:, 2:], boxes_2[:, 2:])\n",
    "    overlap_area = area_of(overlap_left_top, overlap_rigth_bottle)\n",
    "    area1 = area_of(boxes_1[:, :2], boxes_1[:, 2:])\n",
    "    area2 = area_of(boxes_2[:, :2], boxes_2[:, 2:])\n",
    "    \n",
    "    return overlap_area / (area1 + area2 - overlap_area + eps)"
   ]
  }
 ],
 "metadata": {
  "kernelspec": {
   "display_name": "myenv",
   "language": "python",
   "name": "myenv"
  },
  "language_info": {
   "codemirror_mode": {
    "name": "ipython",
    "version": 3
   },
   "file_extension": ".py",
   "mimetype": "text/x-python",
   "name": "python",
   "nbconvert_exporter": "python",
   "pygments_lexer": "ipython3",
   "version": "3.6.8"
  }
 },
 "nbformat": 4,
 "nbformat_minor": 2
}
